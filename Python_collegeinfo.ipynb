{
 "cells": [
  {
   "cell_type": "code",
   "execution_count": 10,
   "metadata": {
    "collapsed": true
   },
   "outputs": [],
   "source": [
    "from easygui import *\n",
    "import sys"
   ]
  },
  {
   "cell_type": "code",
   "execution_count": 14,
   "metadata": {
    "collapsed": true
   },
   "outputs": [],
   "source": [
    "msg_vit = 'WelCome to VIT,\\nThis institute is pioneer institute in Pune and is established in 1983.'\n",
    "msg_viit = 'WelCome to VIIT,\\nThis institute is pioneer institute in Pune and is established in 1983.'\n",
    "msg_coep = 'WelCome to COEP,\\nThis institute is pioneer institute in Pune and is established in 1983.'\n",
    "msg_bits = 'WelCome to BITS,\\nThis institute is pioneer institute in Pune and is established in 1983.'"
   ]
  },
  {
   "cell_type": "code",
   "execution_count": 15,
   "metadata": {
    "collapsed": false
   },
   "outputs": [],
   "source": [
    "x = msgbox('hello everyone', '1st program')\n",
    "if x == 'OK':\n",
    "    c = ccbox('Do you want to continue?','1st program',choices=('Continue','Cancel'))\n",
    "    if c == True:\n",
    "        i = buttonbox('What college do you prefer?','1st program',choices=('VIT','VIIT','COEP','BITS'))\n",
    "        if i == 'VIT':\n",
    "            msgbox(msg_vit,title='College Information portal')\n",
    "        elif i == 'VIIT':\n",
    "            msgbox(msg_viit,title='College Information portal')\n",
    "        elif i == 'COEP':\n",
    "            msgbox(msg_coep,title='College Information portal')\n",
    "        else:\n",
    "            msgbox(msg_bits,title='College Information portal')\n",
    "    else: \n",
    "        pass\n",
    "else:\n",
    "    pass"
   ]
  },
  {
   "cell_type": "code",
   "execution_count": null,
   "metadata": {
    "collapsed": true
   },
   "outputs": [],
   "source": []
  }
 ],
 "metadata": {
  "kernelspec": {
   "display_name": "Python 2",
   "language": "python",
   "name": "python2"
  },
  "language_info": {
   "codemirror_mode": {
    "name": "ipython",
    "version": 2
   },
   "file_extension": ".py",
   "mimetype": "text/x-python",
   "name": "python",
   "nbconvert_exporter": "python",
   "pygments_lexer": "ipython2",
   "version": "2.7.13"
  }
 },
 "nbformat": 4,
 "nbformat_minor": 2
}
